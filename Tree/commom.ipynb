{
 "cells": [
  {
   "cell_type": "markdown",
   "metadata": {},
   "source": [
    "## 1. Maximum Depth of Binary Tree\n",
    "Problem: Find the maximum depth of a binary tree."
   ]
  },
  {
   "cell_type": "code",
   "execution_count": 2,
   "metadata": {},
   "outputs": [
    {
     "name": "stdout",
     "output_type": "stream",
     "text": [
      "Maximum depth: 3\n"
     ]
    }
   ],
   "source": [
    "class TreeNode:\n",
    "    def __init__(self, val=0, left=None, right=None):\n",
    "        self.val = val\n",
    "        self.left = left\n",
    "        self.right = right\n",
    "\n",
    "def maxDepth(root):\n",
    "    if not root:\n",
    "        return 0\n",
    "    left_depth = maxDepth(root.left)\n",
    "    right_depth = maxDepth(root.right)\n",
    "    return max(left_depth, right_depth) + 1\n",
    "\n",
    "# Test case\n",
    "# Constructing a sample binary tree for testing\n",
    "root = TreeNode(3)\n",
    "root.left = TreeNode(9)\n",
    "root.right = TreeNode(20)\n",
    "root.right.left = TreeNode(15)\n",
    "root.right.right = TreeNode(7)\n",
    "\n",
    "print(\"Maximum depth:\", maxDepth(root))  # Output: 3\n"
   ]
  },
  {
   "cell_type": "markdown",
   "metadata": {},
   "source": [
    "### 2. Symmetric Tree\n",
    "Problem: Check if a binary tree is symmetric (mirror image of itself)."
   ]
  },
  {
   "cell_type": "code",
   "execution_count": 3,
   "metadata": {},
   "outputs": [
    {
     "name": "stdout",
     "output_type": "stream",
     "text": [
      "Is symmetric: True\n"
     ]
    }
   ],
   "source": [
    "def isSymmetric(root):\n",
    "    def isMirror(left, right):\n",
    "        if not left and not right:\n",
    "            return True\n",
    "        if not left or not right:\n",
    "            return False\n",
    "        return (left.val == right.val and \n",
    "                isMirror(left.left, right.right) and \n",
    "                isMirror(left.right, right.left))\n",
    "    \n",
    "    return isMirror(root, root)\n",
    "\n",
    "# Test case\n",
    "# Constructing a sample symmetric binary tree for testing\n",
    "root = TreeNode(1)\n",
    "root.left = TreeNode(2)\n",
    "root.right = TreeNode(2)\n",
    "root.left.left = TreeNode(3)\n",
    "root.left.right = TreeNode(4)\n",
    "root.right.left = TreeNode(4)\n",
    "root.right.right = TreeNode(3)\n",
    "\n",
    "print(\"Is symmetric:\", isSymmetric(root))  # Output: True\n"
   ]
  },
  {
   "cell_type": "markdown",
   "metadata": {},
   "source": [
    "### 3. Path Sum\n",
    "Problem: Check if the tree has a root-to-leaf path such that adding up all the values along the path equals a given sum."
   ]
  },
  {
   "cell_type": "code",
   "execution_count": 4,
   "metadata": {},
   "outputs": [
    {
     "name": "stdout",
     "output_type": "stream",
     "text": [
      "Has path sum 30: False\n"
     ]
    }
   ],
   "source": [
    "def hasPathSum(root, targetSum):\n",
    "    if not root:\n",
    "        return False\n",
    "    if not root.left and not root.right and root.val == targetSum:\n",
    "        return True\n",
    "    targetSum -= root.val\n",
    "    return hasPathSum(root.left, targetSum) or hasPathSum(root.right, targetSum)\n",
    "\n",
    "# Test case (using the same tree as in problem 1)\n",
    "target_sum = 30\n",
    "print(f\"Has path sum {target_sum}: {hasPathSum(root, target_sum)}\")  # Output: False\n"
   ]
  },
  {
   "cell_type": "markdown",
   "metadata": {},
   "source": [
    "### 4. Lowest Common Ancestor of a Binary Search Tree\n",
    "Problem: Find the lowest common ancestor (LCA) of two given nodes in a Binary Search Tree (BST)."
   ]
  },
  {
   "cell_type": "code",
   "execution_count": 5,
   "metadata": {},
   "outputs": [
    {
     "name": "stdout",
     "output_type": "stream",
     "text": [
      "Lowest common ancestor of 2 and 8 is: 6\n"
     ]
    }
   ],
   "source": [
    "def lowestCommonAncestor(root, p, q):\n",
    "    if root.val > p.val and root.val > q.val:\n",
    "        return lowestCommonAncestor(root.left, p, q)\n",
    "    elif root.val < p.val and root.val < q.val:\n",
    "        return lowestCommonAncestor(root.right, p, q)\n",
    "    else:\n",
    "        return root\n",
    "\n",
    "# Test case\n",
    "# Constructing a sample BST for testing\n",
    "root = TreeNode(6)\n",
    "root.left = TreeNode(2)\n",
    "root.right = TreeNode(8)\n",
    "root.left.left = TreeNode(0)\n",
    "root.left.right = TreeNode(4)\n",
    "root.right.left = TreeNode(7)\n",
    "root.right.right = TreeNode(9)\n",
    "p = TreeNode(2)\n",
    "q = TreeNode(8)\n",
    "\n",
    "ancestor = lowestCommonAncestor(root, p, q)\n",
    "print(f\"Lowest common ancestor of {p.val} and {q.val} is: {ancestor.val}\")  # Output: 6\n"
   ]
  },
  {
   "cell_type": "markdown",
   "metadata": {},
   "source": [
    "### 5. Serialize and Deserialize Binary Tree\n",
    "Problem: Serialize a binary tree to a string and deserialize it back to a binary tree."
   ]
  },
  {
   "cell_type": "code",
   "execution_count": 6,
   "metadata": {},
   "outputs": [
    {
     "name": "stdout",
     "output_type": "stream",
     "text": [
      "Serialized tree: 6,2,0,None,None,4,None,None,8,7,None,None,9,None,None,\n",
      "Deserialized tree:\n",
      "Inorder traversal of deserialized tree: [0, 2, 4, 6, 7, 8, 9]\n"
     ]
    }
   ],
   "source": [
    "class Codec:\n",
    "\n",
    "    def serialize(self, root):\n",
    "        def rserialize(node):\n",
    "            if not node:\n",
    "                return \"None,\"\n",
    "            return str(node.val) + \",\" + rserialize(node.left) + rserialize(node.right)\n",
    "        \n",
    "        return rserialize(root)\n",
    "\n",
    "    def deserialize(self, data):\n",
    "        def rdeserialize(data_list):\n",
    "            if data_list[0] == \"None\":\n",
    "                data_list.pop(0)\n",
    "                return None\n",
    "            root = TreeNode(int(data_list[0]))\n",
    "            data_list.pop(0)\n",
    "            root.left = rdeserialize(data_list)\n",
    "            root.right = rdeserialize(data_list)\n",
    "            return root\n",
    "        \n",
    "        data_list = data.split(',')\n",
    "        return rdeserialize(data_list)\n",
    "\n",
    "# Test case (using the same tree as in problem 1)\n",
    "codec = Codec()\n",
    "serialized_tree = codec.serialize(root)\n",
    "print(\"Serialized tree:\", serialized_tree)\n",
    "\n",
    "deserialized_tree = codec.deserialize(serialized_tree)\n",
    "print(\"Deserialized tree:\")\n",
    "print(\"Inorder traversal of deserialized tree:\", inorderTraversal(deserialized_tree))\n"
   ]
  },
  {
   "cell_type": "markdown",
   "metadata": {},
   "source": [
    "### 6. Binary Tree Level Order Traversal\n",
    "Problem: Traverse a binary tree level by level."
   ]
  },
  {
   "cell_type": "code",
   "execution_count": 7,
   "metadata": {},
   "outputs": [
    {
     "name": "stdout",
     "output_type": "stream",
     "text": [
      "Level order traversal:\n",
      "[3]\n",
      "[9, 20]\n",
      "[15, 7]\n"
     ]
    }
   ],
   "source": [
    "from collections import deque\n",
    "\n",
    "def levelOrder(root):\n",
    "    if not root:\n",
    "        return []\n",
    "    \n",
    "    result = []\n",
    "    queue = deque([root])\n",
    "    \n",
    "    while queue:\n",
    "        level = []\n",
    "        for _ in range(len(queue)):\n",
    "            node = queue.popleft()\n",
    "            level.append(node.val)\n",
    "            if node.left:\n",
    "                queue.append(node.left)\n",
    "            if node.right:\n",
    "                queue.append(node.right)\n",
    "        result.append(level)\n",
    "    \n",
    "    return result\n",
    "\n",
    "# Test case (using the same tree as in problem 1)\n",
    "root = TreeNode(3)\n",
    "root.left = TreeNode(9)\n",
    "root.right = TreeNode(20)\n",
    "root.right.left = TreeNode(15)\n",
    "root.right.right = TreeNode(7)\n",
    "\n",
    "print(\"Level order traversal:\")\n",
    "for level in levelOrder(root):\n",
    "    print(level)\n",
    "# Output:\n",
    "# [3]\n",
    "# [9, 20]\n",
    "# [15, 7]\n"
   ]
  },
  {
   "cell_type": "markdown",
   "metadata": {},
   "source": [
    "### 7. Diameter of Binary Tree\n",
    "Problem: Find the diameter of a binary tree. The diameter of a binary tree is the length of the longest path between any two nodes in a tree. This path may or may not pass through the root."
   ]
  },
  {
   "cell_type": "code",
   "execution_count": 8,
   "metadata": {},
   "outputs": [
    {
     "name": "stdout",
     "output_type": "stream",
     "text": [
      "Diameter of the binary tree: 3\n"
     ]
    }
   ],
   "source": [
    "class Solution:\n",
    "    def diameterOfBinaryTree(self, root):\n",
    "        self.diameter = 0\n",
    "        \n",
    "        def depth(node):\n",
    "            if not node:\n",
    "                return 0\n",
    "            left_depth = depth(node.left)\n",
    "            right_depth = depth(node.right)\n",
    "            self.diameter = max(self.diameter, left_depth + right_depth)\n",
    "            return max(left_depth, right_depth) + 1\n",
    "        \n",
    "        depth(root)\n",
    "        return self.diameter\n",
    "\n",
    "# Test case (using the same tree as in problem 1)\n",
    "solution = Solution()\n",
    "print(\"Diameter of the binary tree:\", solution.diameterOfBinaryTree(root))  # Output: 3\n"
   ]
  },
  {
   "cell_type": "markdown",
   "metadata": {},
   "source": [
    "### 8. Convert Sorted Array to Binary Search Tree\n",
    "Problem: Given an integer array nums sorted in ascending order, convert it to a height-balanced binary search tree (BST)."
   ]
  },
  {
   "cell_type": "code",
   "execution_count": 9,
   "metadata": {},
   "outputs": [
    {
     "name": "stdout",
     "output_type": "stream",
     "text": [
      "Inorder traversal of constructed BST:\n",
      "[-10, -3, 0, 5, 9]\n"
     ]
    }
   ],
   "source": [
    "class Solution:\n",
    "    def sortedArrayToBST(self, nums):\n",
    "        if not nums:\n",
    "            return None\n",
    "        \n",
    "        mid = len(nums) // 2\n",
    "        root = TreeNode(nums[mid])\n",
    "        root.left = self.sortedArrayToBST(nums[:mid])\n",
    "        root.right = self.sortedArrayToBST(nums[mid+1:])\n",
    "        \n",
    "        return root\n",
    "\n",
    "# Test case\n",
    "nums = [-10, -3, 0, 5, 9]\n",
    "solution = Solution()\n",
    "bst_root = solution.sortedArrayToBST(nums)\n",
    "\n",
    "print(\"Inorder traversal of constructed BST:\")\n",
    "print(inorderTraversal(bst_root))  # Output: [-10, -3, 0, 5, 9]\n"
   ]
  },
  {
   "cell_type": "markdown",
   "metadata": {},
   "source": [
    "### 9. Validate Binary Search Tree\n",
    "Problem: Given a binary tree, determine if it is a valid binary search tree (BST)."
   ]
  },
  {
   "cell_type": "code",
   "execution_count": 10,
   "metadata": {},
   "outputs": [
    {
     "name": "stdout",
     "output_type": "stream",
     "text": [
      "Is valid BST: True\n"
     ]
    }
   ],
   "source": [
    "def isValidBST(root):\n",
    "    def helper(node, min_val, max_val):\n",
    "        if not node:\n",
    "            return True\n",
    "        if node.val <= min_val or node.val >= max_val:\n",
    "            return False\n",
    "        return (helper(node.left, min_val, node.val) and\n",
    "                helper(node.right, node.val, max_val))\n",
    "    \n",
    "    return helper(root, float('-inf'), float('inf'))\n",
    "\n",
    "# Test case (using the same tree as in problem 1)\n",
    "root = TreeNode(2)\n",
    "root.left = TreeNode(1)\n",
    "root.right = TreeNode(3)\n",
    "\n",
    "print(\"Is valid BST:\", isValidBST(root))  # Output: True\n"
   ]
  },
  {
   "cell_type": "markdown",
   "metadata": {},
   "source": [
    "### 10. Binary Tree Paths\n",
    "Problem: Given a binary tree, return all root-to-leaf paths."
   ]
  },
  {
   "cell_type": "code",
   "execution_count": 11,
   "metadata": {},
   "outputs": [
    {
     "name": "stdout",
     "output_type": "stream",
     "text": [
      "Binary tree paths:\n",
      "['1->2->5', '1->3']\n"
     ]
    }
   ],
   "source": [
    "def binaryTreePaths(root):\n",
    "    if not root:\n",
    "        return []\n",
    "    \n",
    "    def dfs(node, path, paths):\n",
    "        if not node.left and not node.right:\n",
    "            paths.append(path + str(node.val))\n",
    "        if node.left:\n",
    "            dfs(node.left, path + str(node.val) + '->', paths)\n",
    "        if node.right:\n",
    "            dfs(node.right, path + str(node.val) + '->', paths)\n",
    "    \n",
    "    paths = []\n",
    "    dfs(root, '', paths)\n",
    "    return paths\n",
    "\n",
    "# Test case (using the same tree as in problem 1)\n",
    "root = TreeNode(1)\n",
    "root.left = TreeNode(2)\n",
    "root.right = TreeNode(3)\n",
    "root.left.right = TreeNode(5)\n",
    "\n",
    "print(\"Binary tree paths:\")\n",
    "print(binaryTreePaths(root))  # Output: ['1->2->5', '1->3']\n"
   ]
  },
  {
   "cell_type": "markdown",
   "metadata": {},
   "source": [
    "### 11. Count Complete Tree Nodes\n",
    "Problem: Given a complete binary tree, count the number of nodes."
   ]
  },
  {
   "cell_type": "code",
   "execution_count": 12,
   "metadata": {},
   "outputs": [
    {
     "name": "stdout",
     "output_type": "stream",
     "text": [
      "Number of nodes in the complete binary tree: 3\n"
     ]
    }
   ],
   "source": [
    "class Solution:\n",
    "    def countNodes(self, root):\n",
    "        if not root:\n",
    "            return 0\n",
    "        \n",
    "        left_depth = self.getDepth(root.left)\n",
    "        right_depth = self.getDepth(root.right)\n",
    "        \n",
    "        if left_depth == right_depth:\n",
    "            return 2**left_depth + self.countNodes(root.right)\n",
    "        else:\n",
    "            return 2**right_depth + self.countNodes(root.left)\n",
    "    \n",
    "    def getDepth(self, node):\n",
    "        if not node:\n",
    "            return 0\n",
    "        return 1 + self.getDepth(node.left)\n",
    "\n",
    "# Test case (using the same tree as in problem 1)\n",
    "solution = Solution()\n",
    "print(\"Number of nodes in the complete binary tree:\", solution.countNodes(root))  # Output: 5\n"
   ]
  },
  {
   "cell_type": "markdown",
   "metadata": {},
   "source": [
    "### 12. Flatten Binary Tree to Linked List\n",
    "Problem: Flatten a binary tree into a linked list in-place."
   ]
  },
  {
   "cell_type": "code",
   "execution_count": 13,
   "metadata": {},
   "outputs": [
    {
     "name": "stdout",
     "output_type": "stream",
     "text": [
      "1 -> 2 -> 5 -> 3 -> "
     ]
    }
   ],
   "source": [
    "class Solution:\n",
    "    def flatten(self, root):\n",
    "        if not root:\n",
    "            return\n",
    "        \n",
    "        self.flatten(root.left)\n",
    "        self.flatten(root.right)\n",
    "        \n",
    "        left = root.left\n",
    "        right = root.right\n",
    "        \n",
    "        root.left = None\n",
    "        root.right = left\n",
    "        \n",
    "        current = root\n",
    "        while current.right:\n",
    "            current = current.right\n",
    "        current.right = right\n",
    "\n",
    "# Test case (using the same tree as in problem 1)\n",
    "solution = Solution()\n",
    "solution.flatten(root)\n",
    "\n",
    "# Printing the flattened tree (right linked list)\n",
    "while root:\n",
    "    print(root.val, end=\" -> \")\n",
    "    root = root.right\n",
    "# Output: 3 -> 9 -> 20 -> 15 -> 7 ->\n"
   ]
  },
  {
   "cell_type": "markdown",
   "metadata": {},
   "source": [
    "### 13. Binary Tree Maximum Path Sum\n",
    "Problem: Find the maximum path sum in a binary tree. The path may start and end at any node in the tree."
   ]
  },
  {
   "cell_type": "code",
   "execution_count": 14,
   "metadata": {},
   "outputs": [
    {
     "name": "stdout",
     "output_type": "stream",
     "text": [
      "Maximum path sum: -inf\n"
     ]
    }
   ],
   "source": [
    "class Solution:\n",
    "    def maxPathSum(self, root):\n",
    "        self.max_sum = float('-inf')\n",
    "        \n",
    "        def max_gain(node):\n",
    "            if not node:\n",
    "                return 0\n",
    "            \n",
    "            left_gain = max(max_gain(node.left), 0)\n",
    "            right_gain = max(max_gain(node.right), 0)\n",
    "            \n",
    "            current_sum = node.val + left_gain + right_gain\n",
    "            self.max_sum = max(self.max_sum, current_sum)\n",
    "            \n",
    "            return node.val + max(left_gain, right_gain)\n",
    "        \n",
    "        max_gain(root)\n",
    "        return self.max_sum\n",
    "\n",
    "# Test case (using the same tree as in problem 1)\n",
    "solution = Solution()\n",
    "print(\"Maximum path sum:\", solution.maxPathSum(root))  # Output: 42\n"
   ]
  },
  {
   "cell_type": "markdown",
   "metadata": {},
   "source": [
    "### 14. Construct Binary Tree from Inorder and Postorder Traversal\n",
    "Problem: Construct a binary tree from given inorder and postorder traversal sequences."
   ]
  },
  {
   "cell_type": "code",
   "execution_count": 15,
   "metadata": {},
   "outputs": [
    {
     "name": "stdout",
     "output_type": "stream",
     "text": [
      "Inorder traversal of constructed tree:\n",
      "[9, 3, 15, 20, 7]\n"
     ]
    }
   ],
   "source": [
    "class Solution:\n",
    "    def buildTree(self, inorder, postorder):\n",
    "        if not inorder or not postorder:\n",
    "            return None\n",
    "        \n",
    "        root_val = postorder.pop()\n",
    "        root = TreeNode(root_val)\n",
    "        inorder_index = inorder.index(root_val)\n",
    "        \n",
    "        root.right = self.buildTree(inorder[inorder_index + 1:], postorder)\n",
    "        root.left = self.buildTree(inorder[:inorder_index], postorder)\n",
    "        \n",
    "        return root\n",
    "\n",
    "# Test case\n",
    "inorder = [9, 3, 15, 20, 7]\n",
    "postorder = [9, 15, 7, 20, 3]\n",
    "solution = Solution()\n",
    "tree_root = solution.buildTree(inorder, postorder)\n",
    "\n",
    "print(\"Inorder traversal of constructed tree:\")\n",
    "print(inorderTraversal(tree_root))  # Output: [9, 3, 15, 20, 7]\n"
   ]
  },
  {
   "cell_type": "markdown",
   "metadata": {},
   "source": [
    "### 15. Binary Tree Zigzag Level Order Traversal\n",
    "Problem: Perform a zigzag level order traversal of a binary tree. Zigzag level order traversal is a variant of level order traversal where nodes at even levels are visited from right to left."
   ]
  },
  {
   "cell_type": "code",
   "execution_count": 16,
   "metadata": {},
   "outputs": [
    {
     "name": "stdout",
     "output_type": "stream",
     "text": [
      "Zigzag level order traversal:\n",
      "[3]\n",
      "[20, 9]\n",
      "[15, 7]\n"
     ]
    }
   ],
   "source": [
    "def zigzagLevelOrder(root):\n",
    "    if not root:\n",
    "        return []\n",
    "    \n",
    "    result = []\n",
    "    queue = deque([root])\n",
    "    level_count = 0\n",
    "    \n",
    "    while queue:\n",
    "        level = []\n",
    "        for _ in range(len(queue)):\n",
    "            node = queue.popleft()\n",
    "            if level_count % 2 == 0:\n",
    "                level.append(node.val)\n",
    "            else:\n",
    "                level.insert(0, node.val)\n",
    "            \n",
    "            if node.left:\n",
    "                queue.append(node.left)\n",
    "            if node.right:\n",
    "                queue.append(node.right)\n",
    "        \n",
    "        result.append(level)\n",
    "        level_count += 1\n",
    "    \n",
    "    return result\n",
    "\n",
    "# Test case (using the same tree as in problem 1)\n",
    "root = TreeNode(3)\n",
    "root.left = TreeNode(9)\n",
    "root.right = TreeNode(20)\n",
    "root.right.left = TreeNode(15)\n",
    "root.right.right = TreeNode(7)\n",
    "\n",
    "print(\"Zigzag level order traversal:\")\n",
    "for level in zigzagLevelOrder(root):\n",
    "    print(level)\n",
    "# Output:\n",
    "# [3]\n",
    "# [20, 9]\n",
    "# [15, 7]\n"
   ]
  },
  {
   "cell_type": "code",
   "execution_count": null,
   "metadata": {},
   "outputs": [],
   "source": []
  }
 ],
 "metadata": {
  "kernelspec": {
   "display_name": "Python 3 (ipykernel)",
   "language": "python",
   "name": "python3"
  },
  "language_info": {
   "codemirror_mode": {
    "name": "ipython",
    "version": 3
   },
   "file_extension": ".py",
   "mimetype": "text/x-python",
   "name": "python",
   "nbconvert_exporter": "python",
   "pygments_lexer": "ipython3",
   "version": "3.12.2"
  }
 },
 "nbformat": 4,
 "nbformat_minor": 2
}
