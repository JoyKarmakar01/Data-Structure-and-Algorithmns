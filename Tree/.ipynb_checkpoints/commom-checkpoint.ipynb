{
 "cells": [
  {
   "cell_type": "markdown",
   "metadata": {},
   "source": [
    "## 1. Maximum Depth of Binary Tree\n",
    "Problem: Find the maximum depth of a binary tree."
   ]
  },
  {
   "cell_type": "code",
   "execution_count": 2,
   "metadata": {},
   "outputs": [
    {
     "name": "stdout",
     "output_type": "stream",
     "text": [
      "Maximum depth: 3\n"
     ]
    }
   ],
   "source": [
    "class TreeNode:\n",
    "    def __init__(self, val=0, left=None, right=None):\n",
    "        self.val = val\n",
    "        self.left = left\n",
    "        self.right = right\n",
    "\n",
    "def maxDepth(root):\n",
    "    if not root:\n",
    "        return 0\n",
    "    left_depth = maxDepth(root.left)\n",
    "    right_depth = maxDepth(root.right)\n",
    "    return max(left_depth, right_depth) + 1\n",
    "\n",
    "# Test case\n",
    "# Constructing a sample binary tree for testing\n",
    "root = TreeNode(3)\n",
    "root.left = TreeNode(9)\n",
    "root.right = TreeNode(20)\n",
    "root.right.left = TreeNode(15)\n",
    "root.right.right = TreeNode(7)\n",
    "\n",
    "print(\"Maximum depth:\", maxDepth(root))  # Output: 3\n"
   ]
  },
  {
   "cell_type": "markdown",
   "metadata": {},
   "source": [
    "### 2. Symmetric Tree\n",
    "Problem: Check if a binary tree is symmetric (mirror image of itself)."
   ]
  },
  {
   "cell_type": "code",
   "execution_count": 3,
   "metadata": {},
   "outputs": [
    {
     "name": "stdout",
     "output_type": "stream",
     "text": [
      "Is symmetric: True\n"
     ]
    }
   ],
   "source": [
    "def isSymmetric(root):\n",
    "    def isMirror(left, right):\n",
    "        if not left and not right:\n",
    "            return True\n",
    "        if not left or not right:\n",
    "            return False\n",
    "        return (left.val == right.val and \n",
    "                isMirror(left.left, right.right) and \n",
    "                isMirror(left.right, right.left))\n",
    "    \n",
    "    return isMirror(root, root)\n",
    "\n",
    "# Test case\n",
    "# Constructing a sample symmetric binary tree for testing\n",
    "root = TreeNode(1)\n",
    "root.left = TreeNode(2)\n",
    "root.right = TreeNode(2)\n",
    "root.left.left = TreeNode(3)\n",
    "root.left.right = TreeNode(4)\n",
    "root.right.left = TreeNode(4)\n",
    "root.right.right = TreeNode(3)\n",
    "\n",
    "print(\"Is symmetric:\", isSymmetric(root))  # Output: True\n"
   ]
  },
  {
   "cell_type": "markdown",
   "metadata": {},
   "source": [
    "### 3. Path Sum\n",
    "Problem: Check if the tree has a root-to-leaf path such that adding up all the values along the path equals a given sum."
   ]
  },
  {
   "cell_type": "code",
   "execution_count": 4,
   "metadata": {},
   "outputs": [
    {
     "name": "stdout",
     "output_type": "stream",
     "text": [
      "Has path sum 30: False\n"
     ]
    }
   ],
   "source": [
    "def hasPathSum(root, targetSum):\n",
    "    if not root:\n",
    "        return False\n",
    "    if not root.left and not root.right and root.val == targetSum:\n",
    "        return True\n",
    "    targetSum -= root.val\n",
    "    return hasPathSum(root.left, targetSum) or hasPathSum(root.right, targetSum)\n",
    "\n",
    "# Test case (using the same tree as in problem 1)\n",
    "target_sum = 30\n",
    "print(f\"Has path sum {target_sum}: {hasPathSum(root, target_sum)}\")  # Output: False\n"
   ]
  },
  {
   "cell_type": "markdown",
   "metadata": {},
   "source": [
    "### 4. Lowest Common Ancestor of a Binary Search Tree\n",
    "Problem: Find the lowest common ancestor (LCA) of two given nodes in a Binary Search Tree (BST)."
   ]
  },
  {
   "cell_type": "code",
   "execution_count": 5,
   "metadata": {},
   "outputs": [
    {
     "name": "stdout",
     "output_type": "stream",
     "text": [
      "Lowest common ancestor of 2 and 8 is: 6\n"
     ]
    }
   ],
   "source": [
    "def lowestCommonAncestor(root, p, q):\n",
    "    if root.val > p.val and root.val > q.val:\n",
    "        return lowestCommonAncestor(root.left, p, q)\n",
    "    elif root.val < p.val and root.val < q.val:\n",
    "        return lowestCommonAncestor(root.right, p, q)\n",
    "    else:\n",
    "        return root\n",
    "\n",
    "# Test case\n",
    "# Constructing a sample BST for testing\n",
    "root = TreeNode(6)\n",
    "root.left = TreeNode(2)\n",
    "root.right = TreeNode(8)\n",
    "root.left.left = TreeNode(0)\n",
    "root.left.right = TreeNode(4)\n",
    "root.right.left = TreeNode(7)\n",
    "root.right.right = TreeNode(9)\n",
    "p = TreeNode(2)\n",
    "q = TreeNode(8)\n",
    "\n",
    "ancestor = lowestCommonAncestor(root, p, q)\n",
    "print(f\"Lowest common ancestor of {p.val} and {q.val} is: {ancestor.val}\")  # Output: 6\n"
   ]
  },
  {
   "cell_type": "markdown",
   "metadata": {},
   "source": [
    "### 5. Serialize and Deserialize Binary Tree\n",
    "Problem: Serialize a binary tree to a string and deserialize it back to a binary tree."
   ]
  },
  {
   "cell_type": "code",
   "execution_count": 6,
   "metadata": {},
   "outputs": [
    {
     "name": "stdout",
     "output_type": "stream",
     "text": [
      "Serialized tree: 6,2,0,None,None,4,None,None,8,7,None,None,9,None,None,\n",
      "Deserialized tree:\n",
      "Inorder traversal of deserialized tree: [0, 2, 4, 6, 7, 8, 9]\n"
     ]
    }
   ],
   "source": [
    "class Codec:\n",
    "\n",
    "    def serialize(self, root):\n",
    "        def rserialize(node):\n",
    "            if not node:\n",
    "                return \"None,\"\n",
    "            return str(node.val) + \",\" + rserialize(node.left) + rserialize(node.right)\n",
    "        \n",
    "        return rserialize(root)\n",
    "\n",
    "    def deserialize(self, data):\n",
    "        def rdeserialize(data_list):\n",
    "            if data_list[0] == \"None\":\n",
    "                data_list.pop(0)\n",
    "                return None\n",
    "            root = TreeNode(int(data_list[0]))\n",
    "            data_list.pop(0)\n",
    "            root.left = rdeserialize(data_list)\n",
    "            root.right = rdeserialize(data_list)\n",
    "            return root\n",
    "        \n",
    "        data_list = data.split(',')\n",
    "        return rdeserialize(data_list)\n",
    "\n",
    "# Test case (using the same tree as in problem 1)\n",
    "codec = Codec()\n",
    "serialized_tree = codec.serialize(root)\n",
    "print(\"Serialized tree:\", serialized_tree)\n",
    "\n",
    "deserialized_tree = codec.deserialize(serialized_tree)\n",
    "print(\"Deserialized tree:\")\n",
    "print(\"Inorder traversal of deserialized tree:\", inorderTraversal(deserialized_tree))\n"
   ]
  },
  {
   "cell_type": "code",
   "execution_count": null,
   "metadata": {},
   "outputs": [],
   "source": []
  }
 ],
 "metadata": {
  "kernelspec": {
   "display_name": "Python 3 (ipykernel)",
   "language": "python",
   "name": "python3"
  },
  "language_info": {
   "codemirror_mode": {
    "name": "ipython",
    "version": 3
   },
   "file_extension": ".py",
   "mimetype": "text/x-python",
   "name": "python",
   "nbconvert_exporter": "python",
   "pygments_lexer": "ipython3",
   "version": "3.9.12"
  }
 },
 "nbformat": 4,
 "nbformat_minor": 2
}
